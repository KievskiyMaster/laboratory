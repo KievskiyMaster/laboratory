{
 "cells": [
  {
   "cell_type": "markdown",
   "metadata": {},
   "source": [
    "Oleksii Riabko"
   ]
  },
  {
   "cell_type": "markdown",
   "metadata": {},
   "source": [
    "№1"
   ]
  },
  {
   "cell_type": "code",
   "execution_count": 16,
   "metadata": {},
   "outputs": [
    {
     "name": "stdout",
     "output_type": "stream",
     "text": [
      "a = 2.0, b = 3.0, c = 1.0, d = 1.0, e = 1.0, f = 1.0\n",
      "Result: 4.208203932499369\n"
     ]
    }
   ],
   "source": [
    "a = float(input(\"Enter a number: \"))\n",
    "b = float(input(\"Enter b number: \"))\n",
    "c = float(input(\"Enter c number: \"))\n",
    "d = float(input(\"Enter d number: \"))\n",
    "e = float(input(\"Enter e number: \"))\n",
    "f = float(input(\"Enter f number: \"))\n",
    "\n",
    "part1 = math.sqrt(a + b)\n",
    "part2 = ((c + d)**3 / 2) - (e**2 / f)\n",
    "part3 = 5 * (c / 2 - (b % a))\n",
    "\n",
    "result = part1 * part2 + part3\n",
    "print(f\"a = {a}, b = {b}, c = {c}, d = {d}, e = {e}, f = {f}\")\n",
    "print(f\"Result: {result}\")\n"
   ]
  },
  {
   "cell_type": "markdown",
   "metadata": {},
   "source": [
    "№2"
   ]
  },
  {
   "cell_type": "code",
   "execution_count": null,
   "metadata": {},
   "outputs": [],
   "source": []
  }
 ],
 "metadata": {
  "kernelspec": {
   "display_name": "Python 3",
   "language": "python",
   "name": "python3"
  },
  "language_info": {
   "codemirror_mode": {
    "name": "ipython",
    "version": 3
   },
   "file_extension": ".py",
   "mimetype": "text/x-python",
   "name": "python",
   "nbconvert_exporter": "python",
   "pygments_lexer": "ipython3",
   "version": "3.10.12"
  }
 },
 "nbformat": 4,
 "nbformat_minor": 2
}
